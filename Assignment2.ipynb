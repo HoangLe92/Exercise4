{
 "cells": [
  {
   "cell_type": "markdown",
   "id": "328eba17",
   "metadata": {},
   "source": [
    "# Assignment 2\n",
    "## Date: 20.09.2022\n",
    "**Hoang Le**"
   ]
  },
  {
   "cell_type": "markdown",
   "id": "a880b7e4",
   "metadata": {},
   "source": [
    "<span style=\"color: blue\">**_EXERCISE 1:_**</span>"
   ]
  },
  {
   "cell_type": "code",
   "execution_count": 15,
   "id": "d126241a",
   "metadata": {},
   "outputs": [
    {
     "name": "stdout",
     "output_type": "stream",
     "text": [
      "The result of the calculation was:\n",
      "        149769\n"
     ]
    }
   ],
   "source": [
    "var1,var2 = (100,29)\n",
    "multi = (var1 + var2)*3\n",
    "expon = multi**2\n",
    "print(\"The result of the calculation was:\")\n",
    "print(\"       \",expon)"
   ]
  },
  {
   "cell_type": "markdown",
   "id": "766ec7d9",
   "metadata": {},
   "source": [
    "<span style=\"color: blue\">**_EXERCISE 2:_**</span>"
   ]
  },
  {
   "cell_type": "code",
   "execution_count": 16,
   "id": "0355e39f",
   "metadata": {},
   "outputs": [
    {
     "name": "stdout",
     "output_type": "stream",
     "text": [
      "Name:John\n",
      "Year of Birth:1995\n",
      "Age:26\n",
      "Password: 95Joh676\n"
     ]
    }
   ],
   "source": [
    "name = input(\"Name:\")\n",
    "year = input(\"Year of Birth:\")\n",
    "age = int(input(\"Age:\"))\n",
    "passname = name[:3]\n",
    "passyear = year[-2:]\n",
    "passage = str(age**2)\n",
    "password = passyear + passname + passage\n",
    "print(\"Password:\",password)"
   ]
  },
  {
   "cell_type": "markdown",
   "id": "768641ce",
   "metadata": {},
   "source": [
    "<span style=\"color: blue\">**_EXERCISE 3:_**</span>"
   ]
  },
  {
   "cell_type": "code",
   "execution_count": 17,
   "id": "42a12f7f",
   "metadata": {},
   "outputs": [
    {
     "name": "stdout",
     "output_type": "stream",
     "text": [
      "First number: 5\n",
      "Second number: 6\n",
      "One of the numbers is even\n"
     ]
    }
   ],
   "source": [
    "num1 = int(input(\"First number: \"))\n",
    "num2 = int(input(\"Second number: \"))\n",
    "case1 = num1%2\n",
    "case2 = num2%2\n",
    "if case1 == 0 and case2 == 0:\n",
    "    print(\"Both numbers are even\")\n",
    "elif case1 != 0 and case2 != 0:\n",
    "    print(\"Both numbers are odd\")\n",
    "else:\n",
    "    print(\"One of the numbers is even\")"
   ]
  },
  {
   "cell_type": "markdown",
   "id": "6e8984c0",
   "metadata": {},
   "source": [
    "<span style=\"color: blue\">**_EXERCISE 4:_**</span>"
   ]
  },
  {
   "cell_type": "code",
   "execution_count": 18,
   "id": "ae1b8a72",
   "metadata": {},
   "outputs": [
    {
     "name": "stdout",
     "output_type": "stream",
     "text": [
      "Give an integer:5\n",
      "The sum was: 10\n"
     ]
    }
   ],
   "source": [
    "num = int(input(\"Give an integer:\"))\n",
    "cal = 0\n",
    "for x in range(num):\n",
    "    cal += x\n",
    "print(\"The sum was:\",cal)"
   ]
  },
  {
   "cell_type": "markdown",
   "id": "63940094",
   "metadata": {},
   "source": [
    "<span style=\"color: blue\">**_EXERCISE 5:_**</span>"
   ]
  },
  {
   "cell_type": "code",
   "execution_count": 19,
   "id": "e3091514",
   "metadata": {},
   "outputs": [
    {
     "name": "stdout",
     "output_type": "stream",
     "text": [
      "Player: 2\n",
      "Try a greater number.\n",
      "Player: 7\n",
      "Try a smaller number.\n",
      "Player: 5\n",
      "That’s right! Number of tries: 3\n"
     ]
    }
   ],
   "source": [
    "import random\n",
    "random0 = random.randint(0, 10)\n",
    "player = int(input(\"Player: \"))\n",
    "num = 1\n",
    "while player != random0:\n",
    "    if player < random0:\n",
    "        print(\"Try a greater number.\")\n",
    "    else:\n",
    "        print(\"Try a smaller number.\")\n",
    "    player = int(input(\"Player: \"))\n",
    "    num += 1\n",
    "print(\"That’s right! Number of tries:\", num)"
   ]
  },
  {
   "cell_type": "code",
   "execution_count": 20,
   "id": "c715a0e6",
   "metadata": {},
   "outputs": [
    {
     "name": "stdout",
     "output_type": "stream",
     "text": [
      "Player1: 2\n",
      "Try a greater number.\n",
      "Player1: 7\n",
      "Try a smaller number.\n",
      "Player1: 5\n",
      "Try a greater number.\n",
      "Player1: 6\n",
      "That’s right! Number of tries: 4\n",
      "Player2: 2\n",
      "Try a greater number.\n",
      "Player2: 7\n",
      "Try a smaller number.\n",
      "Player2: 5\n",
      "Try a greater number.\n",
      "Player2: 6\n",
      "That’s right! Number of tries: 4\n",
      "Both Players have the same scores\n"
     ]
    }
   ],
   "source": [
    "import random\n",
    "# Player 1\n",
    "random0 = random.randint(0, 10)\n",
    "player1 = int(input(\"Player1: \"))\n",
    "num1 = 1\n",
    "while player1 != random0:\n",
    "    if player1 < random0:\n",
    "        print(\"Try a greater number.\")\n",
    "    else:\n",
    "        print(\"Try a smaller number.\")\n",
    "    player1 = int(input(\"Player1: \"))\n",
    "    num1 += 1\n",
    "print(\"That’s right! Number of tries:\", num1)\n",
    "# Player 2     \n",
    "random0 = random.randint(0, 10)\n",
    "player2 = int(input(\"Player2: \"))\n",
    "num2 = 1\n",
    "while player2 != random0:\n",
    "    if player2 < random0:\n",
    "        print(\"Try a greater number.\")\n",
    "    else:\n",
    "        print(\"Try a smaller number.\")\n",
    "    player2 = int(input(\"Player2: \"))\n",
    "    num2 += 1\n",
    "print(\"That’s right! Number of tries:\", num2)    \n",
    "    \n",
    "# Player1 and Player2\n",
    "if num1 < num2:\n",
    "    print(\"Winner is Player1\")\n",
    "elif num1 > num2:\n",
    "    print(\"Winner is Player2\")\n",
    "else:\n",
    "    print(\"Both Players have the same scores\")"
   ]
  },
  {
   "cell_type": "code",
   "execution_count": null,
   "id": "750c2778",
   "metadata": {},
   "outputs": [],
   "source": []
  }
 ],
 "metadata": {
  "kernelspec": {
   "display_name": "Python 3 (ipykernel)",
   "language": "python",
   "name": "python3"
  },
  "language_info": {
   "codemirror_mode": {
    "name": "ipython",
    "version": 3
   },
   "file_extension": ".py",
   "mimetype": "text/x-python",
   "name": "python",
   "nbconvert_exporter": "python",
   "pygments_lexer": "ipython3",
   "version": "3.10.7"
  }
 },
 "nbformat": 4,
 "nbformat_minor": 5
}
